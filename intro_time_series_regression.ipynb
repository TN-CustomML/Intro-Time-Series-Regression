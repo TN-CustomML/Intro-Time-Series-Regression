{
  "nbformat": 4,
  "nbformat_minor": 0,
  "metadata": {
    "colab": {
      "name": "Intro_time_series_regression.ipynb",
      "version": "0.3.2",
      "provenance": [],
      "include_colab_link": true
    },
    "kernelspec": {
      "name": "python3",
      "display_name": "Python 3"
    },
    "accelerator": "GPU"
  },
  "cells": [
    {
      "cell_type": "markdown",
      "metadata": {
        "id": "view-in-github",
        "colab_type": "text"
      },
      "source": [
        "<a href=\"https://colab.research.google.com/gist/TN-CustomML/b283daac069f4261e910862336c8be28/intro_time_series_regression.ipynb\" target=\"_parent\"><img src=\"https://colab.research.google.com/assets/colab-badge.svg\" alt=\"Open In Colab\"/></a>"
      ]
    },
    {
      "cell_type": "markdown",
      "metadata": {
        "id": "SSU6jxlaLyTp",
        "colab_type": "text"
      },
      "source": [
        "# Setup **Environment**"
      ]
    },
    {
      "cell_type": "code",
      "metadata": {
        "id": "r8wuKIgALVUd",
        "colab_type": "code",
        "outputId": "4bf895ba-c388-4c43-cf8f-7cc7c4cf4c49",
        "colab": {
          "base_uri": "https://localhost:8080/",
          "height": 377
        }
      },
      "source": [
        "import numpy as np\n",
        "import pandas as pd\n",
        "import matplotlib.pyplot as plt\n",
        "\n",
        "#Data import\n",
        "from pandas_datareader import data as pdr\n",
        "import fix_yahoo_finance as yf\n",
        "\n",
        "!pip install yfinance --upgrade --no-cache-dir\n",
        "yf.pdr_override()\n",
        "\n",
        "#For mounting to drive\n",
        "from google.colab import drive\n",
        "\n",
        "#Modeling\n",
        "from sklearn.linear_model import LinearRegression, Ridge, Lasso\n",
        "from sklearn import preprocessing\n",
        "from sklearn.model_selection import train_test_split\n",
        "from sklearn.ensemble import GradientBoostingRegressor\n",
        "\n",
        "#Modeling Metrics\n",
        "from sklearn import metrics\n"
      ],
      "execution_count": 0,
      "outputs": [
        {
          "output_type": "stream",
          "text": [
            "Collecting yfinance\n",
            "  Downloading https://files.pythonhosted.org/packages/53/0e/40387099824c98be22cd7e33a620e9d38b61998b031f0b33f0b9959717d2/yfinance-0.1.45.tar.gz\n",
            "Requirement already satisfied, skipping upgrade: pandas>=0.24 in /usr/local/lib/python3.6/dist-packages (from yfinance) (0.24.2)\n",
            "Requirement already satisfied, skipping upgrade: numpy>=1.15 in /usr/local/lib/python3.6/dist-packages (from yfinance) (1.16.5)\n",
            "Requirement already satisfied, skipping upgrade: requests>=2.20 in /usr/local/lib/python3.6/dist-packages (from yfinance) (2.21.0)\n",
            "Requirement already satisfied, skipping upgrade: multitasking>=0.0.7 in /usr/local/lib/python3.6/dist-packages (from yfinance) (0.0.9)\n",
            "Requirement already satisfied, skipping upgrade: pytz>=2011k in /usr/local/lib/python3.6/dist-packages (from pandas>=0.24->yfinance) (2018.9)\n",
            "Requirement already satisfied, skipping upgrade: python-dateutil>=2.5.0 in /usr/local/lib/python3.6/dist-packages (from pandas>=0.24->yfinance) (2.5.3)\n",
            "Requirement already satisfied, skipping upgrade: chardet<3.1.0,>=3.0.2 in /usr/local/lib/python3.6/dist-packages (from requests>=2.20->yfinance) (3.0.4)\n",
            "Requirement already satisfied, skipping upgrade: certifi>=2017.4.17 in /usr/local/lib/python3.6/dist-packages (from requests>=2.20->yfinance) (2019.6.16)\n",
            "Requirement already satisfied, skipping upgrade: idna<2.9,>=2.5 in /usr/local/lib/python3.6/dist-packages (from requests>=2.20->yfinance) (2.8)\n",
            "Requirement already satisfied, skipping upgrade: urllib3<1.25,>=1.21.1 in /usr/local/lib/python3.6/dist-packages (from requests>=2.20->yfinance) (1.24.3)\n",
            "Requirement already satisfied, skipping upgrade: six>=1.5 in /usr/local/lib/python3.6/dist-packages (from python-dateutil>=2.5.0->pandas>=0.24->yfinance) (1.12.0)\n",
            "Building wheels for collected packages: yfinance\n",
            "  Building wheel for yfinance (setup.py) ... \u001b[?25l\u001b[?25hdone\n",
            "  Created wheel for yfinance: filename=yfinance-0.1.45-cp36-none-any.whl size=14652 sha256=bb039d61d087df219933b913f63e33a258f46ba578b46709e49121487d9d4484\n",
            "  Stored in directory: /tmp/pip-ephem-wheel-cache-ac5j_s3r/wheels/0c/d1/df/aa9a7744a4ac353cc9a1f2c3aaea7c1f457fc49de4286f2d88\n",
            "Successfully built yfinance\n",
            "Installing collected packages: yfinance\n",
            "Successfully installed yfinance-0.1.45\n"
          ],
          "name": "stdout"
        }
      ]
    },
    {
      "cell_type": "code",
      "metadata": {
        "id": "0H5KVW7aNt3N",
        "colab_type": "code",
        "colab": {}
      },
      "source": [
        ""
      ],
      "execution_count": 0,
      "outputs": []
    },
    {
      "cell_type": "code",
      "metadata": {
        "id": "PYdgUlVGGBgM",
        "colab_type": "code",
        "colab": {}
      },
      "source": [
        "from google.colab import drive\n",
        "drive.mount('/content/drive')\n",
        "\n",
        "aapl_data = pd.read_csv('/content/drive/My Drive/siraj_homework/AAPL.csv')"
      ],
      "execution_count": 0,
      "outputs": []
    },
    {
      "cell_type": "markdown",
      "metadata": {
        "id": "I96VpfwMQf-F",
        "colab_type": "text"
      },
      "source": [
        "# Import Data and **Discovery**"
      ]
    },
    {
      "cell_type": "code",
      "metadata": {
        "id": "_JiMkRZMOZAM",
        "colab_type": "code",
        "outputId": "385bdfde-fd95-4e69-fc35-a2f8a620b7ae",
        "colab": {
          "base_uri": "https://localhost:8080/",
          "height": 34
        }
      },
      "source": [
        "df_full = pdr.get_data_yahoo(\"AAPL\", start=\"2018-01-03\").reset_index()\n",
        "\n"
      ],
      "execution_count": 0,
      "outputs": [
        {
          "output_type": "stream",
          "text": [
            "[*********************100%***********************]  1 of 1 downloaded\n"
          ],
          "name": "stdout"
        }
      ]
    },
    {
      "cell_type": "code",
      "metadata": {
        "id": "fOWK4RvkOeAC",
        "colab_type": "code",
        "outputId": "f66f8762-2e66-4d17-f643-a94da6020cde",
        "colab": {
          "base_uri": "https://localhost:8080/",
          "height": 34
        }
      },
      "source": [
        "df_full.shape"
      ],
      "execution_count": 0,
      "outputs": [
        {
          "output_type": "execute_result",
          "data": {
            "text/plain": [
              "(427, 7)"
            ]
          },
          "metadata": {
            "tags": []
          },
          "execution_count": 5
        }
      ]
    },
    {
      "cell_type": "code",
      "metadata": {
        "id": "r2klpzRhOiOp",
        "colab_type": "code",
        "outputId": "c6a0d588-6002-40cb-b9dd-ed6a7a4383df",
        "colab": {
          "base_uri": "https://localhost:8080/",
          "height": 204
        }
      },
      "source": [
        "df_full.head()"
      ],
      "execution_count": 0,
      "outputs": [
        {
          "output_type": "execute_result",
          "data": {
            "text/html": [
              "<div>\n",
              "<style scoped>\n",
              "    .dataframe tbody tr th:only-of-type {\n",
              "        vertical-align: middle;\n",
              "    }\n",
              "\n",
              "    .dataframe tbody tr th {\n",
              "        vertical-align: top;\n",
              "    }\n",
              "\n",
              "    .dataframe thead th {\n",
              "        text-align: right;\n",
              "    }\n",
              "</style>\n",
              "<table border=\"1\" class=\"dataframe\">\n",
              "  <thead>\n",
              "    <tr style=\"text-align: right;\">\n",
              "      <th></th>\n",
              "      <th>Date</th>\n",
              "      <th>Open</th>\n",
              "      <th>High</th>\n",
              "      <th>Low</th>\n",
              "      <th>Close</th>\n",
              "      <th>Adj Close</th>\n",
              "      <th>Volume</th>\n",
              "    </tr>\n",
              "  </thead>\n",
              "  <tbody>\n",
              "    <tr>\n",
              "      <th>0</th>\n",
              "      <td>2018-01-03</td>\n",
              "      <td>172.529999</td>\n",
              "      <td>174.550003</td>\n",
              "      <td>171.960007</td>\n",
              "      <td>172.229996</td>\n",
              "      <td>167.672668</td>\n",
              "      <td>29517900</td>\n",
              "    </tr>\n",
              "    <tr>\n",
              "      <th>1</th>\n",
              "      <td>2018-01-04</td>\n",
              "      <td>172.539993</td>\n",
              "      <td>173.470001</td>\n",
              "      <td>172.080002</td>\n",
              "      <td>173.029999</td>\n",
              "      <td>168.451508</td>\n",
              "      <td>22434600</td>\n",
              "    </tr>\n",
              "    <tr>\n",
              "      <th>2</th>\n",
              "      <td>2018-01-05</td>\n",
              "      <td>173.440002</td>\n",
              "      <td>175.369995</td>\n",
              "      <td>173.050003</td>\n",
              "      <td>175.000000</td>\n",
              "      <td>170.369385</td>\n",
              "      <td>23660000</td>\n",
              "    </tr>\n",
              "    <tr>\n",
              "      <th>3</th>\n",
              "      <td>2018-01-08</td>\n",
              "      <td>174.350006</td>\n",
              "      <td>175.610001</td>\n",
              "      <td>173.929993</td>\n",
              "      <td>174.350006</td>\n",
              "      <td>169.736588</td>\n",
              "      <td>20567800</td>\n",
              "    </tr>\n",
              "    <tr>\n",
              "      <th>4</th>\n",
              "      <td>2018-01-09</td>\n",
              "      <td>174.550003</td>\n",
              "      <td>175.059998</td>\n",
              "      <td>173.410004</td>\n",
              "      <td>174.330002</td>\n",
              "      <td>169.717117</td>\n",
              "      <td>21584000</td>\n",
              "    </tr>\n",
              "  </tbody>\n",
              "</table>\n",
              "</div>"
            ],
            "text/plain": [
              "        Date        Open        High  ...       Close   Adj Close    Volume\n",
              "0 2018-01-03  172.529999  174.550003  ...  172.229996  167.672668  29517900\n",
              "1 2018-01-04  172.539993  173.470001  ...  173.029999  168.451508  22434600\n",
              "2 2018-01-05  173.440002  175.369995  ...  175.000000  170.369385  23660000\n",
              "3 2018-01-08  174.350006  175.610001  ...  174.350006  169.736588  20567800\n",
              "4 2018-01-09  174.550003  175.059998  ...  174.330002  169.717117  21584000\n",
              "\n",
              "[5 rows x 7 columns]"
            ]
          },
          "metadata": {
            "tags": []
          },
          "execution_count": 6
        }
      ]
    },
    {
      "cell_type": "code",
      "metadata": {
        "id": "LTX-5tc2OkzA",
        "colab_type": "code",
        "outputId": "32b5dc7e-0af1-4a28-990d-e3100a5ae8f1",
        "colab": {
          "base_uri": "https://localhost:8080/",
          "height": 297
        }
      },
      "source": [
        "df_full.describe()"
      ],
      "execution_count": 0,
      "outputs": [
        {
          "output_type": "execute_result",
          "data": {
            "text/html": [
              "<div>\n",
              "<style scoped>\n",
              "    .dataframe tbody tr th:only-of-type {\n",
              "        vertical-align: middle;\n",
              "    }\n",
              "\n",
              "    .dataframe tbody tr th {\n",
              "        vertical-align: top;\n",
              "    }\n",
              "\n",
              "    .dataframe thead th {\n",
              "        text-align: right;\n",
              "    }\n",
              "</style>\n",
              "<table border=\"1\" class=\"dataframe\">\n",
              "  <thead>\n",
              "    <tr style=\"text-align: right;\">\n",
              "      <th></th>\n",
              "      <th>Open</th>\n",
              "      <th>High</th>\n",
              "      <th>Low</th>\n",
              "      <th>Close</th>\n",
              "      <th>Adj Close</th>\n",
              "      <th>Volume</th>\n",
              "    </tr>\n",
              "  </thead>\n",
              "  <tbody>\n",
              "    <tr>\n",
              "      <th>count</th>\n",
              "      <td>427.000000</td>\n",
              "      <td>427.000000</td>\n",
              "      <td>427.000000</td>\n",
              "      <td>427.000000</td>\n",
              "      <td>427.000000</td>\n",
              "      <td>4.270000e+02</td>\n",
              "    </tr>\n",
              "    <tr>\n",
              "      <th>mean</th>\n",
              "      <td>189.314356</td>\n",
              "      <td>191.216159</td>\n",
              "      <td>187.535363</td>\n",
              "      <td>189.389789</td>\n",
              "      <td>186.914089</td>\n",
              "      <td>3.193997e+07</td>\n",
              "    </tr>\n",
              "    <tr>\n",
              "      <th>std</th>\n",
              "      <td>19.700690</td>\n",
              "      <td>19.788287</td>\n",
              "      <td>19.619066</td>\n",
              "      <td>19.707671</td>\n",
              "      <td>19.933257</td>\n",
              "      <td>1.363339e+07</td>\n",
              "    </tr>\n",
              "    <tr>\n",
              "      <th>min</th>\n",
              "      <td>143.979996</td>\n",
              "      <td>145.720001</td>\n",
              "      <td>142.000000</td>\n",
              "      <td>142.190002</td>\n",
              "      <td>140.505798</td>\n",
              "      <td>1.136200e+07</td>\n",
              "    </tr>\n",
              "    <tr>\n",
              "      <th>25%</th>\n",
              "      <td>174.200005</td>\n",
              "      <td>175.224998</td>\n",
              "      <td>172.790001</td>\n",
              "      <td>174.264999</td>\n",
              "      <td>171.243225</td>\n",
              "      <td>2.235755e+07</td>\n",
              "    </tr>\n",
              "    <tr>\n",
              "      <th>50%</th>\n",
              "      <td>188.380005</td>\n",
              "      <td>189.779999</td>\n",
              "      <td>186.779999</td>\n",
              "      <td>188.580002</td>\n",
              "      <td>185.765717</td>\n",
              "      <td>2.848120e+07</td>\n",
              "    </tr>\n",
              "    <tr>\n",
              "      <th>75%</th>\n",
              "      <td>204.294998</td>\n",
              "      <td>206.434998</td>\n",
              "      <td>203.084999</td>\n",
              "      <td>204.514999</td>\n",
              "      <td>203.413414</td>\n",
              "      <td>3.797215e+07</td>\n",
              "    </tr>\n",
              "    <tr>\n",
              "      <th>max</th>\n",
              "      <td>230.779999</td>\n",
              "      <td>233.470001</td>\n",
              "      <td>229.779999</td>\n",
              "      <td>232.070007</td>\n",
              "      <td>228.523819</td>\n",
              "      <td>9.624670e+07</td>\n",
              "    </tr>\n",
              "  </tbody>\n",
              "</table>\n",
              "</div>"
            ],
            "text/plain": [
              "             Open        High         Low       Close   Adj Close        Volume\n",
              "count  427.000000  427.000000  427.000000  427.000000  427.000000  4.270000e+02\n",
              "mean   189.314356  191.216159  187.535363  189.389789  186.914089  3.193997e+07\n",
              "std     19.700690   19.788287   19.619066   19.707671   19.933257  1.363339e+07\n",
              "min    143.979996  145.720001  142.000000  142.190002  140.505798  1.136200e+07\n",
              "25%    174.200005  175.224998  172.790001  174.264999  171.243225  2.235755e+07\n",
              "50%    188.380005  189.779999  186.779999  188.580002  185.765717  2.848120e+07\n",
              "75%    204.294998  206.434998  203.084999  204.514999  203.413414  3.797215e+07\n",
              "max    230.779999  233.470001  229.779999  232.070007  228.523819  9.624670e+07"
            ]
          },
          "metadata": {
            "tags": []
          },
          "execution_count": 7
        }
      ]
    },
    {
      "cell_type": "code",
      "metadata": {
        "id": "yrhQQQ-5OoTW",
        "colab_type": "code",
        "outputId": "f72366e7-052d-4d7e-df18-31d2a6e6ed26",
        "colab": {
          "base_uri": "https://localhost:8080/",
          "height": 286
        }
      },
      "source": [
        "df_full[\"Adj Close\"].plot()"
      ],
      "execution_count": 0,
      "outputs": [
        {
          "output_type": "execute_result",
          "data": {
            "text/plain": [
              "<matplotlib.axes._subplots.AxesSubplot at 0x7ff79340d320>"
            ]
          },
          "metadata": {
            "tags": []
          },
          "execution_count": 8
        },
        {
          "output_type": "display_data",
          "data": {
            "image/png": "[encoded data removed]",
            "text/plain": [
              "<Figure size 432x288 with 1 Axes>"
            ]
          },
          "metadata": {
            "tags": []
          }
        }
      ]
    },
    {
      "cell_type": "markdown",
      "metadata": {
        "id": "NUUCSZEjQ3sf",
        "colab_type": "text"
      },
      "source": [
        "# Data **Preprocessing**"
      ]
    },
    {
      "cell_type": "code",
      "metadata": {
        "id": "Y65fxApPRDzL",
        "colab_type": "code",
        "colab": {}
      },
      "source": [
        "df_full.set_index(\"Date\", inplace=True)"
      ],
      "execution_count": 0,
      "outputs": []
    },
    {
      "cell_type": "code",
      "metadata": {
        "id": "uw3ORSAXRlOr",
        "colab_type": "code",
        "outputId": "aeaae372-0d1a-471c-d91c-1df869fa65cb",
        "colab": {
          "base_uri": "https://localhost:8080/",
          "height": 235
        }
      },
      "source": [
        "df_full.head()"
      ],
      "execution_count": 0,
      "outputs": [
        {
          "output_type": "execute_result",
          "data": {
            "text/html": [
              "<div>\n",
              "<style scoped>\n",
              "    .dataframe tbody tr th:only-of-type {\n",
              "        vertical-align: middle;\n",
              "    }\n",
              "\n",
              "    .dataframe tbody tr th {\n",
              "        vertical-align: top;\n",
              "    }\n",
              "\n",
              "    .dataframe thead th {\n",
              "        text-align: right;\n",
              "    }\n",
              "</style>\n",
              "<table border=\"1\" class=\"dataframe\">\n",
              "  <thead>\n",
              "    <tr style=\"text-align: right;\">\n",
              "      <th></th>\n",
              "      <th>Open</th>\n",
              "      <th>High</th>\n",
              "      <th>Low</th>\n",
              "      <th>Close</th>\n",
              "      <th>Adj Close</th>\n",
              "      <th>Volume</th>\n",
              "    </tr>\n",
              "    <tr>\n",
              "      <th>Date</th>\n",
              "      <th></th>\n",
              "      <th></th>\n",
              "      <th></th>\n",
              "      <th></th>\n",
              "      <th></th>\n",
              "      <th></th>\n",
              "    </tr>\n",
              "  </thead>\n",
              "  <tbody>\n",
              "    <tr>\n",
              "      <th>2018-01-03</th>\n",
              "      <td>172.529999</td>\n",
              "      <td>174.550003</td>\n",
              "      <td>171.960007</td>\n",
              "      <td>172.229996</td>\n",
              "      <td>167.672668</td>\n",
              "      <td>29517900</td>\n",
              "    </tr>\n",
              "    <tr>\n",
              "      <th>2018-01-04</th>\n",
              "      <td>172.539993</td>\n",
              "      <td>173.470001</td>\n",
              "      <td>172.080002</td>\n",
              "      <td>173.029999</td>\n",
              "      <td>168.451508</td>\n",
              "      <td>22434600</td>\n",
              "    </tr>\n",
              "    <tr>\n",
              "      <th>2018-01-05</th>\n",
              "      <td>173.440002</td>\n",
              "      <td>175.369995</td>\n",
              "      <td>173.050003</td>\n",
              "      <td>175.000000</td>\n",
              "      <td>170.369385</td>\n",
              "      <td>23660000</td>\n",
              "    </tr>\n",
              "    <tr>\n",
              "      <th>2018-01-08</th>\n",
              "      <td>174.350006</td>\n",
              "      <td>175.610001</td>\n",
              "      <td>173.929993</td>\n",
              "      <td>174.350006</td>\n",
              "      <td>169.736588</td>\n",
              "      <td>20567800</td>\n",
              "    </tr>\n",
              "    <tr>\n",
              "      <th>2018-01-09</th>\n",
              "      <td>174.550003</td>\n",
              "      <td>175.059998</td>\n",
              "      <td>173.410004</td>\n",
              "      <td>174.330002</td>\n",
              "      <td>169.717117</td>\n",
              "      <td>21584000</td>\n",
              "    </tr>\n",
              "  </tbody>\n",
              "</table>\n",
              "</div>"
            ],
            "text/plain": [
              "                  Open        High  ...   Adj Close    Volume\n",
              "Date                                ...                      \n",
              "2018-01-03  172.529999  174.550003  ...  167.672668  29517900\n",
              "2018-01-04  172.539993  173.470001  ...  168.451508  22434600\n",
              "2018-01-05  173.440002  175.369995  ...  170.369385  23660000\n",
              "2018-01-08  174.350006  175.610001  ...  169.736588  20567800\n",
              "2018-01-09  174.550003  175.059998  ...  169.717117  21584000\n",
              "\n",
              "[5 rows x 6 columns]"
            ]
          },
          "metadata": {
            "tags": []
          },
          "execution_count": 10
        }
      ]
    },
    {
      "cell_type": "code",
      "metadata": {
        "id": "iFNyhuBlRTK_",
        "colab_type": "code",
        "colab": {}
      },
      "source": [
        "window_size=32\n",
        "num_samples=len(df_full)-window_size\n",
        "\n",
        "# Get indices of access for the data\n",
        "indices=np.arange(num_samples).astype(np.int)[:,None]+np.arange(window_size+1).astype(np.int)\n",
        "\n",
        "\n",
        "data = df_full['Adj Close'].values[indices] # Create the 2D matrix of training samples\n",
        "x = data[:,:-1] # Each row represents 32 days in the past\n",
        "y = data[:,-1] # Each output value represents the 33rd day"
      ],
      "execution_count": 0,
      "outputs": []
    },
    {
      "cell_type": "code",
      "metadata": {
        "id": "vwA29kaWSQ7v",
        "colab_type": "code",
        "outputId": "3513cc8e-df86-4fc8-8e5f-0943e92da1dc",
        "colab": {
          "base_uri": "https://localhost:8080/",
          "height": 238
        }
      },
      "source": [
        "x"
      ],
      "execution_count": 0,
      "outputs": [
        {
          "output_type": "execute_result",
          "data": {
            "text/plain": [
              "array([[167.672668, 168.451508, 170.369385, ..., 163.605591, 169.099213,\n",
              "        168.551804],\n",
              "       [168.451508, 170.369385, 169.736588, ..., 169.099213, 168.551804,\n",
              "        167.984848],\n",
              "       [170.369385, 169.736588, 169.717117, ..., 168.551804, 167.984848,\n",
              "        167.222412],\n",
              "       ...,\n",
              "       [206.95369 , 208.886337, 207.989746, ..., 213.259995, 214.169998,\n",
              "        216.699997],\n",
              "       [208.886337, 207.989746, 212.233627, ..., 214.169998, 216.699997,\n",
              "        223.589996],\n",
              "       [207.989746, 212.233627, 207.641068, ..., 216.699997, 223.589996,\n",
              "        223.089996]])"
            ]
          },
          "metadata": {
            "tags": []
          },
          "execution_count": 12
        }
      ]
    },
    {
      "cell_type": "code",
      "metadata": {
        "id": "v5iCweC6RUNy",
        "colab_type": "code",
        "colab": {}
      },
      "source": [
        "split_fraction=0.8\n",
        "ind_split=int(split_fraction*num_samples)"
      ],
      "execution_count": 0,
      "outputs": []
    },
    {
      "cell_type": "code",
      "metadata": {
        "id": "3gNef19jR-9B",
        "colab_type": "code",
        "colab": {}
      },
      "source": [
        "x_train = x[:ind_split]\n",
        "y_train = y[:ind_split]\n",
        "x_test = x[ind_split:]\n",
        "y_test = y[ind_split:]"
      ],
      "execution_count": 0,
      "outputs": []
    },
    {
      "cell_type": "code",
      "metadata": {
        "id": "osGAK8K_SB7U",
        "colab_type": "code",
        "outputId": "2222352e-ccc7-4091-8afe-81e7828d59ec",
        "colab": {
          "base_uri": "https://localhost:8080/",
          "height": 34
        }
      },
      "source": [
        "y_test.shape"
      ],
      "execution_count": 0,
      "outputs": [
        {
          "output_type": "execute_result",
          "data": {
            "text/plain": [
              "(79,)"
            ]
          },
          "metadata": {
            "tags": []
          },
          "execution_count": 15
        }
      ]
    },
    {
      "cell_type": "code",
      "metadata": {
        "colab_type": "code",
        "outputId": "7b8f4668-3ae0-44da-e54d-0c01d6b0ab6d",
        "id": "eHr4L4dPTSfB",
        "colab": {
          "base_uri": "https://localhost:8080/",
          "height": 34
        }
      },
      "source": [
        "x_test.shape"
      ],
      "execution_count": 0,
      "outputs": [
        {
          "output_type": "execute_result",
          "data": {
            "text/plain": [
              "(79, 32)"
            ]
          },
          "metadata": {
            "tags": []
          },
          "execution_count": 16
        }
      ]
    },
    {
      "cell_type": "markdown",
      "metadata": {
        "id": "vW8zvQj-SFOA",
        "colab_type": "text"
      },
      "source": [
        "# **Modeling**"
      ]
    },
    {
      "cell_type": "code",
      "metadata": {
        "id": "5CJp_cTfSlwQ",
        "colab_type": "code",
        "colab": {}
      },
      "source": [
        "#Help Functions\n",
        "def get_performance (model_pred):\n",
        "  #Function returns standard performance metrics\n",
        "  print('Mean Absolute Error:', metrics.mean_absolute_error(y_test, model_pred).round(4))  \n",
        "  print('Mean Squared Error:', metrics.mean_squared_error(y_test, model_pred).round(4))  \n",
        "  print('Root Mean Squared Error:', np.sqrt(metrics.mean_squared_error(y_test, model_pred)).round(4))\n",
        "  \n",
        "  \n",
        "  \n",
        "def get_plot (model_pred):\n",
        "  plt.scatter(model_pred, y_test, color=\"gray\")\n",
        "  plt.plot(y_test, y_test, color='red', linewidth=2)"
      ],
      "execution_count": 0,
      "outputs": []
    },
    {
      "cell_type": "markdown",
      "metadata": {
        "id": "Tq0OxJ5bThTF",
        "colab_type": "text"
      },
      "source": [
        "# **Baseline**"
      ]
    },
    {
      "cell_type": "code",
      "metadata": {
        "id": "YAb7Y8WQTkMu",
        "colab_type": "code",
        "colab": {}
      },
      "source": [
        "y_pred_lag=np.roll(y_test,1)"
      ],
      "execution_count": 0,
      "outputs": []
    },
    {
      "cell_type": "code",
      "metadata": {
        "id": "Nu0cjBstTr8-",
        "colab_type": "code",
        "outputId": "c460cbcb-a25f-43e3-a4ef-cd44d82b3954",
        "colab": {
          "base_uri": "https://localhost:8080/",
          "height": 68
        }
      },
      "source": [
        "get_performance(y_pred_lag)"
      ],
      "execution_count": 0,
      "outputs": [
        {
          "output_type": "stream",
          "text": [
            "Mean Absolute Error: 2.9978\n",
            "Mean Squared Error: 31.0208\n",
            "Root Mean Squared Error: 5.5696\n"
          ],
          "name": "stdout"
        }
      ]
    },
    {
      "cell_type": "code",
      "metadata": {
        "id": "pzyxhFsWTueT",
        "colab_type": "code",
        "outputId": "5ea56355-7ef4-4ca0-c80f-f495faa5231c",
        "colab": {
          "base_uri": "https://localhost:8080/",
          "height": 269
        }
      },
      "source": [
        "get_plot(y_pred_lag)"
      ],
      "execution_count": 0,
      "outputs": [
        {
          "output_type": "display_data",
          "data": {
            "image/png": "[encoded data removed]",
            "text/plain": [
              "<Figure size 432x288 with 1 Axes>"
            ]
          },
          "metadata": {
            "tags": []
          }
        }
      ]
    },
    {
      "cell_type": "markdown",
      "metadata": {
        "id": "e7gvSXFGTykF",
        "colab_type": "text"
      },
      "source": [
        "# Linear **Regression**"
      ]
    },
    {
      "cell_type": "code",
      "metadata": {
        "id": "KeHLIIb5T3lI",
        "colab_type": "code",
        "colab": {}
      },
      "source": [
        "model_lr=LinearRegression()\n",
        "model_lr.fit(x_train, y_train)"
      ],
      "execution_count": 0,
      "outputs": []
    },
    {
      "cell_type": "code",
      "metadata": {
        "id": "85oyQNiCVLhM",
        "colab_type": "code",
        "colab": {}
      },
      "source": [
        "y_pred_lr=model_lr.predict(x_test)"
      ],
      "execution_count": 0,
      "outputs": []
    },
    {
      "cell_type": "code",
      "metadata": {
        "id": "6C1Ip0fLVN2F",
        "colab_type": "code",
        "outputId": "9e45f840-ff53-496a-98a5-2dbffa398d97",
        "colab": {
          "base_uri": "https://localhost:8080/",
          "height": 68
        }
      },
      "source": [
        "get_performance(y_pred_lr)"
      ],
      "execution_count": 0,
      "outputs": [
        {
          "output_type": "stream",
          "text": [
            "Mean Absolute Error: 2.9529\n",
            "Mean Squared Error: 13.9516\n",
            "Root Mean Squared Error: 3.7352\n"
          ],
          "name": "stdout"
        }
      ]
    },
    {
      "cell_type": "code",
      "metadata": {
        "id": "7IbNhHc7VQhM",
        "colab_type": "code",
        "outputId": "208489df-eba8-469c-c2a6-161c2a2d9292",
        "colab": {
          "base_uri": "https://localhost:8080/",
          "height": 269
        }
      },
      "source": [
        "get_plot(y_pred_lr)"
      ],
      "execution_count": 0,
      "outputs": [
        {
          "output_type": "display_data",
          "data": {
            "image/png": "[encoded data removed]",
            "text/plain": [
              "<Figure size 432x288 with 1 Axes>"
            ]
          },
          "metadata": {
            "tags": []
          }
        }
      ]
    },
    {
      "cell_type": "code",
      "metadata": {
        "id": "M7EdIZIuVTou",
        "colab_type": "code",
        "outputId": "d0947273-2016-45c7-d0a6-726f0dad2f16",
        "colab": {
          "base_uri": "https://localhost:8080/",
          "height": 68
        }
      },
      "source": [
        "get_performance(y_pred_lr)"
      ],
      "execution_count": 0,
      "outputs": [
        {
          "output_type": "stream",
          "text": [
            "Mean Absolute Error: 2.9529\n",
            "Mean Squared Error: 13.9516\n",
            "Root Mean Squared Error: 3.7352\n"
          ],
          "name": "stdout"
        }
      ]
    },
    {
      "cell_type": "markdown",
      "metadata": {
        "id": "-L07HVkZVWZZ",
        "colab_type": "text"
      },
      "source": [
        "# Method #1 Ridge **Regression**"
      ]
    },
    {
      "cell_type": "code",
      "metadata": {
        "id": "QvdyJHv6WsBn",
        "colab_type": "code",
        "colab": {}
      },
      "source": [
        "model_ridge = Ridge()\n",
        "model_ridge.fit(x_train, y_train)\n",
        "\n",
        "#generate predictions\n",
        "y_pred_ridge=model_ridge.predict(x_test)"
      ],
      "execution_count": 0,
      "outputs": []
    },
    {
      "cell_type": "code",
      "metadata": {
        "id": "Kg9555NPWtm9",
        "colab_type": "code",
        "outputId": "25f4e7b6-483c-4eee-8f19-a77e2ffe710e",
        "colab": {
          "base_uri": "https://localhost:8080/",
          "height": 68
        }
      },
      "source": [
        "get_performance(y_pred_ridge)"
      ],
      "execution_count": 0,
      "outputs": [
        {
          "output_type": "stream",
          "text": [
            "Mean Absolute Error: 2.9526\n",
            "Mean Squared Error: 13.9491\n",
            "Root Mean Squared Error: 3.7349\n"
          ],
          "name": "stdout"
        }
      ]
    },
    {
      "cell_type": "code",
      "metadata": {
        "id": "fePJmCodWw3w",
        "colab_type": "code",
        "outputId": "e3ae5737-3f70-4323-cc6a-69a5c2799377",
        "colab": {
          "base_uri": "https://localhost:8080/",
          "height": 269
        }
      },
      "source": [
        "get_plot(y_pred_ridge)"
      ],
      "execution_count": 0,
      "outputs": [
        {
          "output_type": "display_data",
          "data": {
            "image/png": "[encoded data removed]",
            "text/plain": [
              "<Figure size 432x288 with 1 Axes>"
            ]
          },
          "metadata": {
            "tags": []
          }
        }
      ]
    },
    {
      "cell_type": "markdown",
      "metadata": {
        "id": "NKbiKpJ5W5Qa",
        "colab_type": "text"
      },
      "source": [
        "# Gradient Boosting **Trees**"
      ]
    },
    {
      "cell_type": "code",
      "metadata": {
        "id": "c80fBEJtW_wW",
        "colab_type": "code",
        "colab": {}
      },
      "source": [
        "# Model #2 - Gradient Boosting Trees\n",
        "model_gb = GradientBoostingRegressor()\n",
        "model_gb.fit(x_train, y_train)\n",
        "\n",
        "# Infer\n",
        "y_pred_gb = model_gb.predict(x_test)"
      ],
      "execution_count": 0,
      "outputs": []
    },
    {
      "cell_type": "code",
      "metadata": {
        "id": "K42FINChXDbA",
        "colab_type": "code",
        "outputId": "6cebed57-8f25-49a0-88e4-bd03d060b471",
        "colab": {
          "base_uri": "https://localhost:8080/",
          "height": 68
        }
      },
      "source": [
        "get_performance(y_pred_gb)"
      ],
      "execution_count": 0,
      "outputs": [
        {
          "output_type": "stream",
          "text": [
            "Mean Absolute Error: 3.5496\n",
            "Mean Squared Error: 18.367\n",
            "Root Mean Squared Error: 4.2857\n"
          ],
          "name": "stdout"
        }
      ]
    },
    {
      "cell_type": "code",
      "metadata": {
        "id": "wgZieUQmXG2N",
        "colab_type": "code",
        "outputId": "b743de12-7def-4f9b-8339-87a021593cdb",
        "colab": {
          "base_uri": "https://localhost:8080/",
          "height": 269
        }
      },
      "source": [
        "get_plot(y_pred_gb)"
      ],
      "execution_count": 0,
      "outputs": [
        {
          "output_type": "display_data",
          "data": {
            "image/png": "[encoded data removed]",
            "text/plain": [
              "<Figure size 432x288 with 1 Axes>"
            ]
          },
          "metadata": {
            "tags": []
          }
        }
      ]
    },
    {
      "cell_type": "markdown",
      "metadata": {
        "id": "JtSlkk7KXNuI",
        "colab_type": "text"
      },
      "source": [
        "# **Comparison**"
      ]
    },
    {
      "cell_type": "code",
      "metadata": {
        "id": "kjzbAmgiaZgC",
        "colab_type": "code",
        "colab": {}
      },
      "source": [
        "df_comp=pd.DataFrame({\"lag\":np.absolute(y_test-y_pred_lag), \n",
        "              \"lr\":np.absolute(y_test-y_pred_lr), \n",
        "              \"ridge\":np.absolute(y_test-y_pred_ridge),\n",
        "              \"gb\":np.absolute(y_test-y_pred_gb)})"
      ],
      "execution_count": 0,
      "outputs": []
    },
    {
      "cell_type": "code",
      "metadata": {
        "id": "XbYFb2ajb9KN",
        "colab_type": "code",
        "outputId": "ad9376bd-41dc-4c76-c7d6-53033d33a137",
        "colab": {
          "base_uri": "https://localhost:8080/",
          "height": 398
        }
      },
      "source": [
        "\n",
        "df_comp.plot.bar(figsize=(16, 6))\n",
        "plt.ylim(0,10)\n",
        "plt.xlim(9,20)"
      ],
      "execution_count": 0,
      "outputs": [
        {
          "output_type": "execute_result",
          "data": {
            "text/plain": [
              "(9, 20)"
            ]
          },
          "metadata": {
            "tags": []
          },
          "execution_count": 39
        },
        {
          "output_type": "display_data",
          "data": {
            "image/png": "[encoded data removed]",
            "text/plain": [
              "<Figure size 1152x432 with 1 Axes>"
            ]
          },
          "metadata": {
            "tags": []
          }
        }
      ]
    },
    {
      "cell_type": "markdown",
      "metadata": {
        "id": "TBN-N0XLc1-d",
        "colab_type": "text"
      },
      "source": [
        "# **Resources**"
      ]
    },
    {
      "cell_type": "markdown",
      "metadata": {
        "colab_type": "text",
        "id": "SkNACfCBdxv7"
      },
      "source": [
        "- [In 12 minutes: Stocks Analysis with Pandas and Scikit-Learn](https://towardsdatascience.com/in-12-minutes-stocks-analysis-with-pandas-and-scikit-learn-a8d8a7b50ee7)\n",
        "- [A beginner’s guide to Linear Regression in Python with Scikit-Learn](https://towardsdatascience.com/a-beginners-guide-to-linear-regression-in-python-with-scikit-learn-83a8f7ae2b4f)"
      ]
    }
  ]
}